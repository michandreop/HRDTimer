{
 "cells": [
  {
   "cell_type": "code",
   "execution_count": 1,
   "metadata": {},
   "outputs": [],
   "source": [
    "import os\n",
    "import pandas as pd\n",
    "import numpy as np\n",
    "from tqdm import tqdm\n",
    "from glob import glob\n",
    "import musical\n",
    "import sys\n",
    "import csv\n",
    "from tabulate import tabulate\n",
    "\n",
    "# Ensure correct file paths \n",
    "sys.path.append(os.path.abspath(os.path.join(os.getcwd(), '..')))\n",
    "\n",
    "from hrdtimer import utils as HRDTimerUtils"
   ]
  },
  {
   "cell_type": "markdown",
   "metadata": {},
   "source": [
    "# PCAWG run"
   ]
  },
  {
   "cell_type": "code",
   "execution_count": 2,
   "metadata": {},
   "outputs": [],
   "source": [
    "# DEFINE PATHS ----- need to modify based on where we will end up saving/providing the data.\n",
    "PCAWG_timing_vcfs = \"/Volumes/extSSD/park_lab/HRDTimer_Analysis/AA_NEW_TEST_RUN_PCAWG_Apr25_v2/Breast/timing\"\n",
    "breast_metadata_path = '/Users/michail/HMS Dropbox/Michail Andreopoulos/HRDTimer/data/metadata/pan_metadata_v3.csv'"
   ]
  },
  {
   "cell_type": "code",
   "execution_count": 3,
   "metadata": {},
   "outputs": [
    {
     "name": "stdout",
     "output_type": "stream",
     "text": [
      "Processing Early samples:\n"
     ]
    },
    {
     "name": "stderr",
     "output_type": "stream",
     "text": [
      "Processing Files: 100%|██████████| 202/202 [00:22<00:00,  9.08it/s]\n"
     ]
    },
    {
     "name": "stdout",
     "output_type": "stream",
     "text": [
      "Processing Late samples:\n"
     ]
    },
    {
     "name": "stderr",
     "output_type": "stream",
     "text": [
      "Processing Files: 100%|██████████| 174/174 [00:19<00:00,  8.92it/s]\n"
     ]
    },
    {
     "name": "stdout",
     "output_type": "stream",
     "text": [
      "Processing NA samples:\n"
     ]
    },
    {
     "name": "stderr",
     "output_type": "stream",
     "text": [
      "Processing Files: 100%|██████████| 205/205 [00:18<00:00, 10.84it/s]\n"
     ]
    }
   ],
   "source": [
    "breast_timing_samples = HRDTimerUtils.prepare_samples_for_timing(PCAWG_timing_vcfs)\n",
    "\n",
    "breast_metadata_df = pd.read_csv(breast_metadata_path)\n",
    "timing_sample_ids = list(breast_timing_samples.keys())\n",
    "\n",
    "wgd_sample_ids = breast_metadata_df.query(\"sample in @timing_sample_ids and isWGD\")[\"sample\"].tolist()\n",
    "hrd_wgd_sample_ids = breast_metadata_df.query(\"`HRDetect.isHRD` and organ == 'Breast' and isWGD\")[\"sample\"].tolist()\n",
    "\n",
    "wgd_timing_samples = {s: breast_timing_samples[s] for s in wgd_sample_ids if s in breast_timing_samples}\n",
    "hrd_wgd_timing_samples = {s: breast_timing_samples[s] for s in hrd_wgd_sample_ids if s in breast_timing_samples}"
   ]
  },
  {
   "cell_type": "code",
   "execution_count": null,
   "metadata": {},
   "outputs": [
    {
     "name": "stderr",
     "output_type": "stream",
     "text": [
      "Bootstrapping:   0%|          | 0/200 [00:00<?, ?it/s]"
     ]
    },
    {
     "name": "stderr",
     "output_type": "stream",
     "text": [
      "Bootstrapping: 100%|██████████| 200/200 [21:54<00:00,  6.57s/it]\n"
     ]
    }
   ],
   "source": [
    "output_dir = '/Users/michail/HMS Dropbox/Michail Andreopoulos/HRDTimer/temp/PCAWG_Breast_boot_only_p_change'\n",
    "n_bootstraps = 200\n",
    "\n",
    "HRDTimerUtils.generate_bootstraps(\n",
    "    samples_dict=hrd_wgd_timing_samples,\n",
    "    n_bootstraps=n_bootstraps,\n",
    "    output_dir=output_dir\n",
    ")"
   ]
  },
  {
   "cell_type": "code",
   "execution_count": null,
   "metadata": {},
   "outputs": [],
   "source": [
    "HRDTimerUtils.run_HRD_WGD_timing_analysis(\n",
    "    hrd_wgd_timing_samples=hrd_wgd_timing_samples,\n",
    "    base_dir=\"/Users/michail/HMS Dropbox/Michail Andreopoulos/HRDTimer/temp/PCAWG_Breast_boot_only_p_change\",\n",
    "    output_csv_path=\"/Users/michail/HMS Dropbox/Michail Andreopoulos/HRDTimer/data/output/May27_TimingRun/PCAWG_Breast_WGD_HRD_TimingResults_timing_nboot200_0001_only_prob_change_boot.csv\"\n",
    ")"
   ]
  },
  {
   "cell_type": "markdown",
   "metadata": {},
   "source": [
    "# SCANB run"
   ]
  },
  {
   "cell_type": "code",
   "execution_count": 2,
   "metadata": {},
   "outputs": [],
   "source": [
    "# DEFINE PATHS ----- need to modify based on where we will end up saving/providing the data.\n",
    "SCANB_timing_vcfs = \"/Volumes/extSSD/park_lab/HRDTimer_Analysis/AA_NEW_TEST_RUN_SCANB_unfiltered_Apr25/Breast/timing\"\n",
    "breast_metadata_path = '/Users/michail/HMS Dropbox/Michail Andreopoulos/HRDTimer/data/metadata/pan_metadata_v3.csv'"
   ]
  },
  {
   "cell_type": "code",
   "execution_count": 3,
   "metadata": {},
   "outputs": [
    {
     "name": "stdout",
     "output_type": "stream",
     "text": [
      "Processing Early samples:\n"
     ]
    },
    {
     "name": "stderr",
     "output_type": "stream",
     "text": [
      "Processing Files: 100%|██████████| 49/49 [00:08<00:00,  5.59it/s]\n"
     ]
    },
    {
     "name": "stdout",
     "output_type": "stream",
     "text": [
      "Processing Late samples:\n"
     ]
    },
    {
     "name": "stderr",
     "output_type": "stream",
     "text": [
      "Processing Files: 100%|██████████| 49/49 [00:07<00:00,  6.48it/s]\n"
     ]
    },
    {
     "name": "stdout",
     "output_type": "stream",
     "text": [
      "Processing NA samples:\n"
     ]
    },
    {
     "name": "stderr",
     "output_type": "stream",
     "text": [
      "Processing Files: 100%|██████████| 49/49 [00:06<00:00,  7.75it/s]\n"
     ]
    }
   ],
   "source": [
    "breast_timing_samples = HRDTimerUtils.prepare_samples_for_timing(SCANB_timing_vcfs)\n",
    "\n",
    "breast_metadata_df = pd.read_csv(breast_metadata_path)\n",
    "timing_sample_ids = list(breast_timing_samples.keys())\n",
    "\n",
    "wgd_sample_ids = breast_metadata_df.query(\"sample in @timing_sample_ids and isWGD\")[\"sample\"].tolist()\n",
    "hrd_wgd_sample_ids = breast_metadata_df.query(\"`HRDetect.isHRD` and organ == 'Breast' and isWGD\")[\"sample\"].tolist()\n",
    "\n",
    "wgd_timing_samples = {s: breast_timing_samples[s] for s in wgd_sample_ids if s in breast_timing_samples}\n",
    "hrd_wgd_timing_samples = {s: breast_timing_samples[s] for s in hrd_wgd_sample_ids if s in breast_timing_samples}"
   ]
  },
  {
   "cell_type": "code",
   "execution_count": null,
   "metadata": {},
   "outputs": [
    {
     "name": "stderr",
     "output_type": "stream",
     "text": [
      "Bootstrapping: 100%|██████████| 200/200 [25:06<00:00,  7.53s/it]\n"
     ]
    }
   ],
   "source": [
    "output_dir = '/Users/michail/HMS Dropbox/Michail Andreopoulos/HRDTimer/temp/SCANB_Breast_boot_only_p_change'\n",
    "n_bootstraps = 200\n",
    "\n",
    "HRDTimerUtils.generate_bootstraps(\n",
    "    samples_dict=hrd_wgd_timing_samples,\n",
    "    n_bootstraps=n_bootstraps,\n",
    "    output_dir=output_dir\n",
    ")"
   ]
  },
  {
   "cell_type": "code",
   "execution_count": null,
   "metadata": {},
   "outputs": [],
   "source": [
    "HRDTimerUtils.run_HRD_WGD_timing_analysis(\n",
    "    hrd_wgd_timing_samples=hrd_wgd_timing_samples,\n",
    "    base_dir=\"/Users/michail/HMS Dropbox/Michail Andreopoulos/HRDTimer/temp/SCANB_Breast_boot_only_p_change\",\n",
    "    output_csv_path=\"/Users/michail/HMS Dropbox/Michail Andreopoulos/HRDTimer/data/output/May27_TimingRun/SCANB_Breast_WGD_HRD_TimingResults_timing_nboot200_0001_only_prob_change_boot.csv\"\n",
    ")"
   ]
  },
  {
   "cell_type": "markdown",
   "metadata": {},
   "source": [
    "# INFORM Run"
   ]
  },
  {
   "cell_type": "code",
   "execution_count": 1,
   "metadata": {},
   "outputs": [],
   "source": [
    "# DEFINE PATHS ----- need to modify based on where we will end up saving/providing the data.\n",
    "INFORM_timing_vcfs = \"/Volumes/extSSD/park_lab/HRDTimer_Analysis/AA_NEW_TEST_RUN_INFORM_germline_filtered_v2/Breast/timing\"\n",
    "breast_metadata_path = '/Users/michail/HMS Dropbox/Michail Andreopoulos/HRDTimer/data/metadata/pan_metadata_v3.csv'"
   ]
  },
  {
   "cell_type": "code",
   "execution_count": 4,
   "metadata": {},
   "outputs": [
    {
     "name": "stdout",
     "output_type": "stream",
     "text": [
      "Processing Early samples:\n"
     ]
    },
    {
     "name": "stderr",
     "output_type": "stream",
     "text": [
      "Processing Files: 100%|██████████| 19/19 [00:01<00:00, 11.73it/s]\n"
     ]
    },
    {
     "name": "stdout",
     "output_type": "stream",
     "text": [
      "Processing Late samples:\n"
     ]
    },
    {
     "name": "stderr",
     "output_type": "stream",
     "text": [
      "Processing Files: 100%|██████████| 19/19 [00:02<00:00,  8.75it/s]\n"
     ]
    },
    {
     "name": "stdout",
     "output_type": "stream",
     "text": [
      "Processing NA samples:\n"
     ]
    },
    {
     "name": "stderr",
     "output_type": "stream",
     "text": [
      "Processing Files: 100%|██████████| 19/19 [00:02<00:00,  8.00it/s]\n"
     ]
    }
   ],
   "source": [
    "breast_timing_samples = HRDTimerUtils.prepare_samples_for_timing(INFORM_timing_vcfs)\n",
    "\n",
    "breast_metadata_df = pd.read_csv(breast_metadata_path)\n",
    "timing_sample_ids = list(breast_timing_samples.keys())\n",
    "\n",
    "wgd_sample_ids = breast_metadata_df.query(\"sample in @timing_sample_ids and isWGD\")[\"sample\"].tolist()\n",
    "hrd_wgd_sample_ids = breast_metadata_df.query(\"organ == 'Breast' and isWGD\")[\"sample\"].tolist()\n",
    "\n",
    "wgd_timing_samples = {s: breast_timing_samples[s] for s in wgd_sample_ids if s in breast_timing_samples}\n",
    "hrd_wgd_timing_samples = {s: breast_timing_samples[s] for s in hrd_wgd_sample_ids if s in breast_timing_samples}"
   ]
  },
  {
   "cell_type": "code",
   "execution_count": 10,
   "metadata": {},
   "outputs": [
    {
     "name": "stderr",
     "output_type": "stream",
     "text": [
      "Bootstrapping: 100%|██████████| 200/200 [05:01<00:00,  1.51s/it]\n"
     ]
    }
   ],
   "source": [
    "output_dir = '/Users/michail/HMS Dropbox/Michail Andreopoulos/HRDTimer/temp/INFORM_Breast_boot_only_p_change'\n",
    "n_bootstraps = 200\n",
    "\n",
    "HRDTimerUtils.generate_bootstraps(\n",
    "    samples_dict=hrd_wgd_timing_samples,\n",
    "    n_bootstraps=n_bootstraps,\n",
    "    output_dir=output_dir\n",
    ")"
   ]
  },
  {
   "cell_type": "code",
   "execution_count": null,
   "metadata": {},
   "outputs": [],
   "source": [
    "HRDTimerUtils.run_HRD_WGD_timing_analysis(\n",
    "    hrd_wgd_timing_samples=hrd_wgd_timing_samples,\n",
    "    base_dir=\"/Users/michail/HMS Dropbox/Michail Andreopoulos/HRDTimer/temp/INFORM_Breast_boot_only_p_change\",\n",
    "    output_csv_path=\"/Users/michail/HMS Dropbox/Michail Andreopoulos/HRDTimer/data/output/May27_TimingRun/INFORM_Breast_WGD_HRD_TimingResults_timing_nboot200_0001_only_prob_change_boot.csv\"\n",
    ")"
   ]
  }
 ],
 "metadata": {
  "kernelspec": {
   "display_name": "python-3.11",
   "language": "python",
   "name": "python3"
  },
  "language_info": {
   "codemirror_mode": {
    "name": "ipython",
    "version": 3
   },
   "file_extension": ".py",
   "mimetype": "text/x-python",
   "name": "python",
   "nbconvert_exporter": "python",
   "pygments_lexer": "ipython3",
   "version": "3.11.8"
  }
 },
 "nbformat": 4,
 "nbformat_minor": 2
}
