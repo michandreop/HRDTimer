{
 "cells": [
  {
   "cell_type": "code",
   "execution_count": null,
   "metadata": {},
   "outputs": [],
   "source": [
    "import pandas as pd\n",
    "import vcfpy\n",
    "from SigProfilerAssignment import Analyzer as Analyze\n",
    "import musical\n",
    "import matplotlib.pyplot as plt\n",
    "import numpy as np\n",
    "import seaborn as sns\n",
    "import os\n",
    "import shutil\n",
    "import ast\n",
    "from tqdm import tqdm \n",
    "import re\n",
    "import sys\n",
    "from scipy import stats\n",
    "from contextlib import redirect_stdout\n",
    "from tabulate import tabulate\n",
    "import csv\n",
    "from scipy import odr\n",
    "\n",
    "pd.set_option(\"display.max_columns\", None)\n",
    "from hrdtimer import utils as HRDTimerUtils\n",
    "%matplotlib inline"
   ]
  },
  {
   "cell_type": "markdown",
   "metadata": {},
   "source": [
    "# PCAWG"
   ]
  },
  {
   "cell_type": "markdown",
   "metadata": {},
   "source": [
    "## 0. Preprocess TimeR Output / Split vcfs early - late"
   ]
  },
  {
   "cell_type": "code",
   "execution_count": null,
   "metadata": {},
   "outputs": [
    {
     "name": "stderr",
     "output_type": "stream",
     "text": [
      "Processing VCFs: 100%|██████████| 317/317 [02:01<00:00,  2.60it/s]\n",
      "Processing VCFs: 100%|██████████| 317/317 [01:36<00:00,  3.28it/s]\n"
     ]
    }
   ],
   "source": [
    "input_folder_path = \"PCAWG/hrdtimer_results_v3\"\n",
    "output_folder_path = \"AA_NEW_TEST_RUN_PCAWG_Apr25_v2\"\n",
    "organ_csv_path = \"breast_ovarian_summary_with_age.csv\"\n",
    "\n",
    "# Ensure the output folder exists\n",
    "if not os.path.exists(output_folder_path):\n",
    "    os.makedirs(output_folder_path)\n",
    "\n",
    "HRDTimerUtils.process_vcfs_early_late(input_folder_path, output_folder_path, organ_csv_path, time_analysis=False)\n",
    "HRDTimerUtils.process_vcfs_early_late(input_folder_path, output_folder_path, organ_csv_path, time_analysis=True)"
   ]
  },
  {
   "cell_type": "markdown",
   "metadata": {},
   "source": [
    "## 1. Breast Cancer Samples"
   ]
  },
  {
   "cell_type": "markdown",
   "metadata": {},
   "source": [
    "### 1.2 Signature fitting / probability of mutation-attribution to Signatures"
   ]
  },
  {
   "cell_type": "code",
   "execution_count": null,
   "metadata": {},
   "outputs": [],
   "source": [
    "all_muts = \"AA_NEW_TEST_RUN_PCAWG_Apr25_v2/Breast/all_mut/\"\n",
    "timing_muts = \"AA_NEW_TEST_RUN_PCAWG_Apr25_v2/Breast/timing/\"\n",
    "HRDTimerUtils.run_Signature_Analysis(all_muts, genome_build=\"GRCh37\")\n",
    "HRDTimerUtils.run_Signature_Analysis(timing_muts, genome_build=\"GRCh37\")"
   ]
  },
  {
   "cell_type": "markdown",
   "metadata": {},
   "source": [
    "### 1.3 Prepare / load required data to run timing"
   ]
  },
  {
   "cell_type": "code",
   "execution_count": null,
   "metadata": {},
   "outputs": [
    {
     "name": "stdout",
     "output_type": "stream",
     "text": [
      "Processing Early samples:\n"
     ]
    },
    {
     "name": "stderr",
     "output_type": "stream",
     "text": [
      "Processing Files: 100%|██████████| 202/202 [00:21<00:00,  9.48it/s]\n"
     ]
    },
    {
     "name": "stdout",
     "output_type": "stream",
     "text": [
      "Processing Late samples:\n"
     ]
    },
    {
     "name": "stderr",
     "output_type": "stream",
     "text": [
      "Processing Files: 100%|██████████| 174/174 [00:22<00:00,  7.79it/s]\n"
     ]
    },
    {
     "name": "stdout",
     "output_type": "stream",
     "text": [
      "Processing NA samples:\n"
     ]
    },
    {
     "name": "stderr",
     "output_type": "stream",
     "text": [
      "Processing Files: 100%|██████████| 205/205 [00:18<00:00, 11.04it/s]\n"
     ]
    }
   ],
   "source": [
    "vcf_folder_path = \"AA_NEW_TEST_RUN_PCAWG_Apr25_v2/Breast/timing\"\n",
    "breast_samples = HRDTimerUtils.prepare_samples_for_timing(vcf_folder_path)"
   ]
  },
  {
   "cell_type": "code",
   "execution_count": null,
   "metadata": {},
   "outputs": [],
   "source": [
    "# Read the CSV file into a DataFrame\n",
    "breast_metadata_path = 'breast_ovarian_summary_with_age_hrd_grade.csv'\n",
    "breast_metadata = pd.read_csv(breast_metadata_path)\n",
    "breast_samples_list = list(breast_samples.keys()) # From vcf files\n",
    "breast_samples_metadata_df = breast_metadata[breast_metadata['aliquot_id'].isin(breast_samples_list)]\n",
    "\n",
    "breast_samples_metadata_df = breast_samples_metadata_df[breast_samples_metadata_df['WGD'] == True]\n",
    "breast_samples_WGD_IDs = breast_samples_metadata_df['aliquot_id'].tolist()\n",
    "#HRD\n",
    "HRD_WGD_breast_samples_IDs = breast_metadata.loc[\n",
    "    (breast_metadata['isHRD']) & \n",
    "    (breast_metadata['organ.x'] == 'Breast') & \n",
    "    (breast_metadata['WGD'] == True), \n",
    "    'aliquot_id'\n",
    "]\n",
    "HRD_samples = HRD_WGD_breast_samples_IDs.tolist()"
   ]
  },
  {
   "cell_type": "code",
   "execution_count": 185,
   "metadata": {},
   "outputs": [],
   "source": [
    "# For timing analysis keep samples with WGD only\n",
    "breast_samples_WGD = {key: breast_samples[key] for key in breast_samples_WGD_IDs if key in breast_samples}\n",
    "breast_samples_WGD_HRD = {key: breast_samples[key] for key in HRD_samples if key in breast_samples}"
   ]
  },
  {
   "cell_type": "markdown",
   "metadata": {},
   "source": [
    "### 1.4 Timing Analysis"
   ]
  },
  {
   "cell_type": "code",
   "execution_count": null,
   "metadata": {},
   "outputs": [
    {
     "name": "stderr",
     "output_type": "stream",
     "text": [
      "Processing Samples: 100%|██████████| 34/34 [01:53<00:00,  3.34s/it]\n"
     ]
    }
   ],
   "source": [
    "WGDTime_means = {}\n",
    "WGDTime_CpGs = {}\n",
    "WGDTime_error = {}\n",
    "WGDTime_CpGs_error = {}\n",
    "NmutCpG = {}\n",
    "\n",
    "# Iterate over each sample in the dictionary with a progress bar\n",
    "for sample_id, sample_df in tqdm(breast_samples_WGD_HRD.items(), desc=\"Processing Samples\"):\n",
    "    # Calculate bootstrap samples and confidence intervals\n",
    "    N_mut_CpG, _, WDGTime, WGDTime_CI = HRDTimerUtils.calculate_WGDtime_prob_bootstrapping(sample_df)\n",
    "    _, _, WGDTime_CpG, WGDTime_CpG_CI = HRDTimerUtils.calculate_WGDtime_prob_bootstrapping_CTpG(sample_df)\n",
    "    # Store the results for the current sample\n",
    "    WGDTime_means[sample_id] = WDGTime\n",
    "    WGDTime_error[sample_id] = WGDTime_CI\n",
    "    NmutCpG[sample_id] = N_mut_CpG.tolist()\n",
    "\n",
    "    WGDTime_CpGs[sample_id] = WGDTime_CpG\n",
    "    WGDTime_CpGs_error[sample_id] = WGDTime_CpG_CI"
   ]
  },
  {
   "cell_type": "markdown",
   "metadata": {},
   "source": [
    "## ------------- Example plot time WGD with SBS1 vs CpG"
   ]
  },
  {
   "cell_type": "code",
   "execution_count": null,
   "metadata": {},
   "outputs": [
    {
     "name": "stdout",
     "output_type": "stream",
     "text": [
      "Best-fit line (through origin): y = 0.974 * x\n",
      "Chi-squared: 9.330\n",
      "Reduced Chi-squared: 0.283\n"
     ]
    },
    {
     "data": {
      "image/png": "[encoded data removed]",
      "text/plain": [
       "<Figure size 700x700 with 1 Axes>"
      ]
     },
     "metadata": {},
     "output_type": "display_data"
    }
   ],
   "source": [
    "# Combine into a DataFrame\n",
    "df = pd.DataFrame({\n",
    "    \"WGDTime_mean\": pd.Series(WGDTime_means),\n",
    "    \"WGDTime_mean_error\": pd.Series(WGDTime_error),\n",
    "    \"WGDTime_CpG\": pd.Series(WGDTime_CpGs),\n",
    "    \"WGDTime_CpG_error\": pd.Series(WGDTime_CpGs_error),\n",
    "})\n",
    "\n",
    "# Drop NaNs\n",
    "df = df.dropna()\n",
    "\n",
    "# Define model (force intercept to 0)\n",
    "def linear_through_origin(B, x):\n",
    "    return B[0] * x\n",
    "\n",
    "model = odr.Model(linear_through_origin)\n",
    "\n",
    "# Create data object with errors\n",
    "data = odr.RealData(\n",
    "    df[\"WGDTime_mean\"],\n",
    "    df[\"WGDTime_CpG\"],\n",
    "    sx=df[\"WGDTime_mean_error\"],\n",
    "    sy=df[\"WGDTime_CpG_error\"]\n",
    ")\n",
    "\n",
    "# Run ODR\n",
    "odr_instance = odr.ODR(data, model, beta0=[1.])\n",
    "output = odr_instance.run()\n",
    "\n",
    "# Extract values\n",
    "slope = output.beta[0]\n",
    "chi2 = output.sum_square  # Chi-squared\n",
    "dof = len(df) - 1  # degrees of freedom = n - number of fitted params\n",
    "reduced_chi2 = chi2 / dof\n",
    "\n",
    "# Print results\n",
    "print(f\"Best-fit line (through origin): y = {slope:.3f} * x\")\n",
    "print(f\"Chi-squared: {chi2:.3f}\")\n",
    "print(f\"Reduced Chi-squared: {reduced_chi2:.3f}\")\n",
    "\n",
    "# Plot\n",
    "plt.figure(figsize=(7, 7))\n",
    "plt.errorbar(\n",
    "    df[\"WGDTime_mean\"],\n",
    "    df[\"WGDTime_CpG\"],\n",
    "    xerr=df[\"WGDTime_mean_error\"],\n",
    "    yerr=df[\"WGDTime_CpG_error\"],\n",
    "    fmt='o',\n",
    "    color='k',\n",
    "    ecolor='lightgrey',\n",
    "    capsize=2,\n",
    "    label='Samples'\n",
    ")\n",
    "\n",
    "# Best-fit line\n",
    "x_vals = np.linspace(0, 1, 100)\n",
    "y_vals = slope * x_vals\n",
    "plt.plot(x_vals, y_vals, 'k-', label='Best-fit (through origin)')\n",
    "\n",
    "# Reference line\n",
    "plt.plot([0,1], [0,1], 'r--', label='y = x')\n",
    "\n",
    "# Annotate chi-squared on plot\n",
    "#plt.text(0.05, 0.9, f\"$\\\\chi^2$ = {chi2:.3f}\\nReduced $\\\\chi^2$ = {reduced_chi2:.3f}\", fontsize=10)\n",
    "\n",
    "# Aesthetics\n",
    "plt.xlabel(\"WGDTime (SBS1)\")\n",
    "plt.ylabel(\"WGDTime (C>TpG)\")\n",
    "plt.title(\"PCAWG Breast WGD HRD\", fontsize=15)\n",
    "plt.grid(False)\n",
    "plt.xlim(0, 1)\n",
    "plt.ylim(0, 1)\n",
    "plt.tight_layout()\n",
    "plt.legend()\n",
    "plt.show()"
   ]
  },
  {
   "cell_type": "markdown",
   "metadata": {},
   "source": [
    "From the above plot the outlier that the time is pushed earlier in the SBS1 prob formula is interesting. This sample is an APOBEC sample. Signature exposures show that APOBEC is active early in the sample. From the calculation of probabilities, several contexts such as the TCG>T are assigned almost by 0.98 percent to originate from APOBEC in such a sample and not from a timing process. Hence if we naively took all C>Ts at CG contexts, we would overestimate the proportion of early timing mutations and that would push the timing estimate higher. This is effect is corrected with this new approach"
   ]
  },
  {
   "cell_type": "code",
   "execution_count": null,
   "metadata": {},
   "outputs": [
    {
     "name": "stderr",
     "output_type": "stream",
     "text": [
      "Processing Samples: 100%|██████████| 34/34 [36:36<00:00, 64.60s/it]\n"
     ]
    }
   ],
   "source": [
    "HRDTime_means = {}\n",
    "HRDTime_error = {}\n",
    "pi2SBS1_means = {}\n",
    "pi2SBS1_err = {}\n",
    "pi2SBS3_means = {}\n",
    "pi2SBS3_err = {} \n",
    "pi1SBS1_means = {}\n",
    "pi1SBS1_err = {}\n",
    "pi1SBS3_means = {}\n",
    "pi1SBS3_err = {}\n",
    "c = {}\n",
    "c_avg = {}\n",
    "NtSBS1 ={}\n",
    "NtSBS3 ={}\n",
    "Nmutall = {}\n",
    "\n",
    "# Iterate over each sample in the dictionary with a progress bar\n",
    "for sample_id, sample_df in tqdm(breast_samples_WGD_HRD.items(), desc=\"Processing Samples\"):\n",
    "    # Calculate bootstrap samples and confidence intervals\n",
    "    N_mut_all, _, HRD_time, HRD_time_CI, c_val_mean, cavg, Nt_SBS1, Nt_SBS3, pi_2_SBS1_mean, pi_2_SBS1_err, pi_2_SBS3_mean, pi_2_SBS3_err, pi_1_SBS1_mean, pi_1_SBS1_err, pi_1_SBS3_mean, pi_1_SBS3_err = HRDTimerUtils.calculate_HRDtime_prob_bootstrapping(sample_df)\n",
    "    # Store the results for the current sample\n",
    "    HRDTime_means[sample_id] = HRD_time\n",
    "    HRDTime_error[sample_id] = HRD_time_CI\n",
    "    pi2SBS1_means[sample_id] = pi_2_SBS1_mean\n",
    "    pi2SBS1_err[sample_id] = pi_2_SBS1_err\n",
    "    pi2SBS3_means[sample_id] = pi_2_SBS3_mean\n",
    "    pi2SBS3_err[sample_id] = pi_2_SBS3_err\n",
    "    pi1SBS1_means[sample_id] = pi_1_SBS1_mean\n",
    "    pi1SBS1_err[sample_id] = pi_1_SBS1_err\n",
    "    pi1SBS3_means[sample_id] = pi_1_SBS3_mean\n",
    "    pi1SBS3_err[sample_id] = pi_1_SBS3_err\n",
    "    c[sample_id] = c_val_mean \n",
    "    c_avg[sample_id] = cavg\n",
    "    NtSBS1[sample_id] = Nt_SBS1\n",
    "    NtSBS3[sample_id] = Nt_SBS3\n",
    "    Nmutall[sample_id] = N_mut_all.tolist()"
   ]
  },
  {
   "cell_type": "code",
   "execution_count": null,
   "metadata": {},
   "outputs": [],
   "source": [
    "results = []\n",
    "\n",
    "# Loop through each filtered ID, calculate HRD time, and store the results\n",
    "for aliquot_id in HRD_samples:\n",
    "    if aliquot_id in breast_samples:\n",
    "        n_mut_CpG = NmutCpG.get(aliquot_id, \"Not available\")\n",
    "        n_mut_all = Nmutall.get(aliquot_id, \"Not available\")\n",
    "        \n",
    "        hrd_time = HRDTime_means.get(aliquot_id, \"Not available\")\n",
    "        hrd_time_error = HRDTime_error.get(aliquot_id, \"Not available\")\n",
    "\n",
    "        wgd_time = WGDTime_means.get(aliquot_id, \"Not available\")\n",
    "        wgd_time_error = WGDTime_error.get(aliquot_id, \"Not available\")\n",
    "\n",
    "        wgd_time_cpg = WGDTime_CpGs.get(aliquot_id, \"Not available\")\n",
    "        wgd_time_cpg_err = WGDTime_CpGs_error.get(aliquot_id, \"Not available\")\n",
    "\n",
    "        pi2SBS1_mean = pi2SBS1_means.get(aliquot_id, \"Not available\")\n",
    "        pi2SBS1_error = pi2SBS1_err.get(aliquot_id, \"Not available\")\n",
    "\n",
    "        pi2SBS3_mean = pi2SBS3_means.get(aliquot_id, \"Not available\")\n",
    "        pi2SBS3_error = pi2SBS3_err.get(aliquot_id, \"Not available\")\n",
    "\n",
    "        pi1SBS1_mean = pi1SBS1_means.get(aliquot_id, \"Not available\")\n",
    "        pi1SBS1_error = pi1SBS1_err.get(aliquot_id, \"Not available\")\n",
    "\n",
    "        pi1SBS3_mean = pi1SBS3_means.get(aliquot_id, \"Not available\")\n",
    "        pi1SBS3_error = pi1SBS3_err.get(aliquot_id, \"Not available\")\n",
    "\n",
    "        C = c.get(aliquot_id, \"Not available\")\n",
    "        C_avg = c_avg.get(aliquot_id, \"Not available\")\n",
    "\n",
    "        Nt_SBS1 = NtSBS1.get(aliquot_id, \"Not available\")\n",
    "        Nt_SBS3 = NtSBS3.get(aliquot_id, \"Not available\")\n",
    "        \n",
    "        results.append([aliquot_id, hrd_time, hrd_time_error, wgd_time, wgd_time_error, wgd_time_cpg, wgd_time_cpg_err, pi2SBS1_mean, pi2SBS1_error, pi2SBS3_mean, pi2SBS3_error, pi1SBS1_mean, pi1SBS1_error, pi1SBS3_mean, pi1SBS3_error, C, C_avg, Nt_SBS1, Nt_SBS3, n_mut_CpG, n_mut_all])\n",
    "\n",
    "# Print the results as a table\n",
    "print(tabulate(results, headers=[\"ID\", \"HRDTime\", \"HRDTime_ci\", \"WGDTime\", \"WGDTime_ci\", \"WGDTime_CpG\", \"WGDTime_CpG_err\", 'pi2SBS1' , 'pi2SBS1_ci', 'pi2SBS3' , 'pi2SBS3_ci', 'pi1SBS1' , 'pi1SBS1_ci', 'pi1SBS3' , 'pi1SBS3_ci', \"c\", \"c21\", \"Nt_SBS1\", \"Nt_SBS3\", \"N_mut(C>TpG)\", \"N_mut_all\"], tablefmt=\"grid\"))\n",
    "\n",
    "with open('PCAWG_Breast_WGD_HRD_TimingResults_v9_timing_nboot200.csv', mode='w', newline='') as file:\n",
    "    writer = csv.writer(file)\n",
    "    # Write the header\n",
    "    writer.writerow([\"ID\", \"HRDTime\", \"HRDTime_ci\", \"WGDTime\", \"WGDTime_ci\", \"WGDTime_CpG\", \"WGDTime_CpG_err\", 'pi2SBS1' , 'pi2SBS1_ci', 'pi2SBS3' , 'pi2SBS3_ci', 'pi1SBS1' , 'pi1SBS1_ci', 'pi1SBS3' , 'pi1SBS3_ci', \"c\", \"c21\", \"Nt_SBS1\", \"Nt_SBS3\", \"N_mut(C>TpG)\", \"N_mut_all\"])\n",
    "    # Write the data\n",
    "    writer.writerows(results)"
   ]
  },
  {
   "cell_type": "markdown",
   "metadata": {},
   "source": [
    "## 2. Ovary Cancer Samples"
   ]
  },
  {
   "cell_type": "markdown",
   "metadata": {},
   "source": [
    "### 2.1 Signature fitting / probability of mutation-attribution to Signatures"
   ]
  },
  {
   "cell_type": "code",
   "execution_count": null,
   "metadata": {},
   "outputs": [],
   "source": [
    "all_muts = \"AA_NEW_TEST_RUN_PCAWG_Apr25_v2/Ovary/all_mut/\"\n",
    "timing_muts = \"AA_NEW_TEST_RUN_PCAWG_Apr25_v2/Ovary/timing/\"\n",
    "HRDTimerUtils.run_Signature_Analysis(all_muts, genome_build=\"GRCh37\")\n",
    "HRDTimerUtils.run_Signature_Analysis(timing_muts, genome_build=\"GRCh37\")"
   ]
  },
  {
   "cell_type": "markdown",
   "metadata": {},
   "source": [
    "### 2.2 Prepare / load required data to run timing"
   ]
  },
  {
   "cell_type": "code",
   "execution_count": null,
   "metadata": {},
   "outputs": [
    {
     "name": "stdout",
     "output_type": "stream",
     "text": [
      "Processing Early samples:\n"
     ]
    },
    {
     "name": "stderr",
     "output_type": "stream",
     "text": [
      "Processing Files: 100%|██████████| 109/109 [00:11<00:00,  9.66it/s]\n"
     ]
    },
    {
     "name": "stdout",
     "output_type": "stream",
     "text": [
      "Processing Late samples:\n"
     ]
    },
    {
     "name": "stderr",
     "output_type": "stream",
     "text": [
      "Processing Files: 100%|██████████| 107/107 [00:17<00:00,  6.07it/s]\n"
     ]
    },
    {
     "name": "stdout",
     "output_type": "stream",
     "text": [
      "Processing NA samples:\n"
     ]
    },
    {
     "name": "stderr",
     "output_type": "stream",
     "text": [
      "Processing Files: 100%|██████████| 109/109 [00:14<00:00,  7.78it/s]\n"
     ]
    }
   ],
   "source": [
    "vcf_folder_path = \"AA_NEW_TEST_RUN_PCAWG_Apr25_v2/Ovary/timing\"\n",
    "ovary_samples = HRDTimerUtils.prepare_samples_for_timing(vcf_folder_path)"
   ]
  },
  {
   "cell_type": "code",
   "execution_count": 212,
   "metadata": {},
   "outputs": [],
   "source": [
    "# Read the CSV file into a DataFrame\n",
    "ovary_metadata_path = 'breast_ovarian_summary_with_age_hrd_grade.csv'\n",
    "ovary_metadata = pd.read_csv(ovary_metadata_path)\n",
    "ovary_samples_list = list(ovary_samples.keys()) # From vcf files\n",
    "ovary_samples_metadata_df = ovary_metadata[ovary_metadata['aliquot_id'].isin(ovary_samples_list)]\n",
    "#WGD\n",
    "#Keep only samples with WGD\n",
    "ovary_samples_metadata_df = ovary_samples_metadata_df[ovary_samples_metadata_df['WGD'] == True]\n",
    "ovary_samples_WGD_IDs = ovary_samples_metadata_df['aliquot_id'].tolist()\n",
    "#HRD\n",
    "HRD_WGD_ovary_samples_IDs = ovary_metadata.loc[\n",
    "    (ovary_metadata['isHRD']) & \n",
    "    (ovary_metadata['organ.x'] == 'Ovary') & \n",
    "    (ovary_metadata['WGD'] == True), \n",
    "    'aliquot_id'\n",
    "]\n",
    "HRD_samples = HRD_WGD_ovary_samples_IDs.tolist()"
   ]
  },
  {
   "cell_type": "code",
   "execution_count": 213,
   "metadata": {},
   "outputs": [],
   "source": [
    "# For timing analysis keep samples with WGD only\n",
    "ovary_samples_WGD = {key: ovary_samples[key] for key in ovary_samples_WGD_IDs if key in ovary_samples}\n",
    "ovary_samples_WGD_HRD = {key: ovary_samples[key] for key in HRD_samples if key in ovary_samples}"
   ]
  },
  {
   "cell_type": "code",
   "execution_count": null,
   "metadata": {},
   "outputs": [
    {
     "name": "stderr",
     "output_type": "stream",
     "text": [
      "Processing Samples: 100%|██████████| 27/27 [01:47<00:00,  3.98s/it]\n"
     ]
    }
   ],
   "source": [
    "WGDTime_means = {}\n",
    "WGDTime_CpGs = {}\n",
    "WGDTime_error = {}\n",
    "WGDTime_CpGs_error = {}\n",
    "NmutCpG = {}\n",
    "\n",
    "# Iterate over each sample in the dictionary with a progress bar\n",
    "for sample_id, sample_df in tqdm(ovary_samples_WGD_HRD.items(), desc=\"Processing Samples\"):\n",
    "    # Calculate bootstrap samples and confidence intervals\n",
    "    N_mut_CpG, _, WDGTime, WGDTime_CI = HRDTimerUtils.calculate_WGDtime_prob_bootstrapping(sample_df)\n",
    "    _, _, WGDTime_CpG, WGDTime_CpG_CI = HRDTimerUtils.calculate_WGDtime_prob_bootstrapping_CTpG(sample_df)\n",
    "    # Store the results for the current sample\n",
    "    WGDTime_means[sample_id] = WDGTime\n",
    "    WGDTime_error[sample_id] = WGDTime_CI\n",
    "    NmutCpG[sample_id] = N_mut_CpG.tolist()\n",
    "\n",
    "    WGDTime_CpGs[sample_id] = WGDTime_CpG\n",
    "    WGDTime_CpGs_error[sample_id] = WGDTime_CpG_CI"
   ]
  },
  {
   "cell_type": "code",
   "execution_count": null,
   "metadata": {},
   "outputs": [
    {
     "name": "stderr",
     "output_type": "stream",
     "text": [
      "Processing Samples: 100%|██████████| 27/27 [30:56<00:00, 68.76s/it] \n"
     ]
    }
   ],
   "source": [
    "HRDTime_means = {}\n",
    "HRDTime_error = {}\n",
    "pi2SBS1_means = {}\n",
    "pi2SBS1_err = {}\n",
    "pi2SBS3_means = {}\n",
    "pi2SBS3_err = {} \n",
    "pi1SBS1_means = {}\n",
    "pi1SBS1_err = {}\n",
    "pi1SBS3_means = {}\n",
    "pi1SBS3_err = {}\n",
    "c = {}\n",
    "c_avg = {}\n",
    "NtSBS1 ={}\n",
    "NtSBS3 ={}\n",
    "Nmutall = {}\n",
    "\n",
    "# Iterate over each sample in the dictionary with a progress bar\n",
    "for sample_id, sample_df in tqdm(ovary_samples_WGD_HRD.items(), desc=\"Processing Samples\"):\n",
    "    # Calculate bootstrap samples and confidence intervals\n",
    "    N_mut_all, _, HRD_time, HRD_time_CI, c_val_mean, cavg, Nt_SBS1, Nt_SBS3, pi_2_SBS1_mean, pi_2_SBS1_err, pi_2_SBS3_mean, pi_2_SBS3_err, pi_1_SBS1_mean, pi_1_SBS1_err, pi_1_SBS3_mean, pi_1_SBS3_err = HRDTimerUtils.calculate_HRDtime_prob_bootstrapping(sample_df)\n",
    "    # Store the results for the current sample\n",
    "    HRDTime_means[sample_id] = HRD_time\n",
    "    HRDTime_error[sample_id] = HRD_time_CI\n",
    "    pi2SBS1_means[sample_id] = pi_2_SBS1_mean\n",
    "    pi2SBS1_err[sample_id] = pi_2_SBS1_err\n",
    "    pi2SBS3_means[sample_id] = pi_2_SBS3_mean\n",
    "    pi2SBS3_err[sample_id] = pi_2_SBS3_err\n",
    "    pi1SBS1_means[sample_id] = pi_1_SBS1_mean\n",
    "    pi1SBS1_err[sample_id] = pi_1_SBS1_err\n",
    "    pi1SBS3_means[sample_id] = pi_1_SBS3_mean\n",
    "    pi1SBS3_err[sample_id] = pi_1_SBS3_err\n",
    "    c[sample_id] = c_val_mean \n",
    "    c_avg[sample_id] = cavg\n",
    "    NtSBS1[sample_id] = Nt_SBS1\n",
    "    NtSBS3[sample_id] = Nt_SBS3\n",
    "    Nmutall[sample_id] = N_mut_all.tolist()"
   ]
  },
  {
   "cell_type": "code",
   "execution_count": null,
   "metadata": {},
   "outputs": [],
   "source": [
    "results = []\n",
    "\n",
    "# Loop through each filtered ID, calculate HRD time, and store the results\n",
    "for aliquot_id in HRD_samples:\n",
    "    if aliquot_id in ovary_samples:\n",
    "        n_mut_CpG = NmutCpG.get(aliquot_id, \"Not available\")\n",
    "        n_mut_all = Nmutall.get(aliquot_id, \"Not available\")\n",
    "        \n",
    "        hrd_time = HRDTime_means.get(aliquot_id, \"Not available\")\n",
    "        hrd_time_error = HRDTime_error.get(aliquot_id, \"Not available\")\n",
    "\n",
    "        wgd_time = WGDTime_means.get(aliquot_id, \"Not available\")\n",
    "        wgd_time_error = WGDTime_error.get(aliquot_id, \"Not available\")\n",
    "\n",
    "        wgd_time_cpg = WGDTime_CpGs.get(aliquot_id, \"Not available\")\n",
    "        wgd_time_cpg_err = WGDTime_CpGs_error.get(aliquot_id, \"Not available\")\n",
    "\n",
    "        pi2SBS1_mean = pi2SBS1_means.get(aliquot_id, \"Not available\")\n",
    "        pi2SBS1_error = pi2SBS1_err.get(aliquot_id, \"Not available\")\n",
    "\n",
    "        pi2SBS3_mean = pi2SBS3_means.get(aliquot_id, \"Not available\")\n",
    "        pi2SBS3_error = pi2SBS3_err.get(aliquot_id, \"Not available\")\n",
    "\n",
    "        pi1SBS1_mean = pi1SBS1_means.get(aliquot_id, \"Not available\")\n",
    "        pi1SBS1_error = pi1SBS1_err.get(aliquot_id, \"Not available\")\n",
    "\n",
    "        pi1SBS3_mean = pi1SBS3_means.get(aliquot_id, \"Not available\")\n",
    "        pi1SBS3_error = pi1SBS3_err.get(aliquot_id, \"Not available\")\n",
    "\n",
    "        C = c.get(aliquot_id, \"Not available\")\n",
    "        C_avg = c_avg.get(aliquot_id, \"Not available\")\n",
    "\n",
    "        Nt_SBS1 = NtSBS1.get(aliquot_id, \"Not available\")\n",
    "        Nt_SBS3 = NtSBS3.get(aliquot_id, \"Not available\")\n",
    "        \n",
    "        results.append([aliquot_id, hrd_time, hrd_time_error, wgd_time, wgd_time_error, wgd_time_cpg, wgd_time_cpg_err, pi2SBS1_mean, pi2SBS1_error, pi2SBS3_mean, pi2SBS3_error, pi1SBS1_mean, pi1SBS1_error, pi1SBS3_mean, pi1SBS3_error, C, C_avg, Nt_SBS1, Nt_SBS3, n_mut_CpG, n_mut_all])\n",
    "\n",
    "# Print the results as a table\n",
    "print(tabulate(results, headers=[\"ID\", \"HRDTime\", \"HRDTime_ci\", \"WGDTime\", \"WGDTime_ci\", \"WGDTime_CpG\", \"WGDTime_CpG_err\", 'pi2SBS1' , 'pi2SBS1_ci', 'pi2SBS3' , 'pi2SBS3_ci', 'pi1SBS1' , 'pi1SBS1_ci', 'pi1SBS3' , 'pi1SBS3_ci', \"c\", \"c21\", \"Nt_SBS1\", \"Nt_SBS3\", \"N_mut(C>TpG)\", \"N_mut_all\"], tablefmt=\"grid\"))\n",
    "\n",
    "with open('PCAWG_Ovary_WGD_HRD_TimingResults_v9_timing_nboot200.csv', mode='w', newline='') as file:\n",
    "    writer = csv.writer(file)\n",
    "    # Write the header\n",
    "    writer.writerow([\"ID\", \"HRDTime\", \"HRDTime_ci\", \"WGDTime\", \"WGDTime_ci\", \"WGDTime_CpG\", \"WGDTime_CpG_err\", 'pi2SBS1' , 'pi2SBS1_ci', 'pi2SBS3' , 'pi2SBS3_ci', 'pi1SBS1' , 'pi1SBS1_ci', 'pi1SBS3' , 'pi1SBS3_ci', \"c\", \"c21\", \"Nt_SBS1\", \"Nt_SBS3\", \"N_mut(C>TpG)\", \"N_mut_all\"])\n",
    "    # Write the data\n",
    "    writer.writerows(results)"
   ]
  },
  {
   "cell_type": "markdown",
   "metadata": {},
   "source": [
    "# SCANB"
   ]
  },
  {
   "cell_type": "code",
   "execution_count": 221,
   "metadata": {},
   "outputs": [],
   "source": [
    "SCANB_metadata_path = 'hrdtimer_SCANB_selected.csv'\n",
    "SCANB_metadata = pd.read_csv(SCANB_metadata_path)\n",
    "SCANB_metadata['isHRD'] = True\n",
    "SCANB_metadata['organ'] = 'Breast'\n",
    "SCANB_metadata['WGD'] = True\n",
    "SCANB_metadata['aliquot_id'] = SCANB_metadata['SangerID.Tumour']\n",
    "#output_csv_path = 'SCANB_metadata.csv'  # Replace with your desired output CSV file path\n",
    "#SCANB_metadata.to_csv(output_csv_path, index=False)"
   ]
  },
  {
   "cell_type": "code",
   "execution_count": null,
   "metadata": {},
   "outputs": [
    {
     "name": "stderr",
     "output_type": "stream",
     "text": [
      "Processing VCFs: 100%|██████████| 240/240 [00:23<00:00, 10.16it/s]\n",
      "Processing VCFs: 100%|██████████| 240/240 [00:17<00:00, 13.93it/s]\n"
     ]
    }
   ],
   "source": [
    "input_folder_path = \"SCANB/hrdtimer_results_unfiltered\"\n",
    "output_folder_path = \"AA_NEW_TEST_RUN_SCANB_unfiltered_Apr25\"\n",
    "organ_csv_path = \"SCANB_metadata.csv\"\n",
    "\n",
    "# Ensure the output folder exists\n",
    "if not os.path.exists(output_folder_path):\n",
    "    os.makedirs(output_folder_path)\n",
    "\n",
    "HRDTimerUtils.process_vcfs_early_late(input_folder_path, output_folder_path, organ_csv_path, time_analysis=False)\n",
    "HRDTimerUtils.process_vcfs_early_late(input_folder_path, output_folder_path, organ_csv_path, time_analysis=True)"
   ]
  },
  {
   "cell_type": "code",
   "execution_count": null,
   "metadata": {},
   "outputs": [],
   "source": [
    "all_muts = \"AA_NEW_TEST_RUN_SCANB_unfiltered_Apr25/Breast/all_mut\"\n",
    "timing_muts = \"AA_NEW_TEST_RUN_SCANB_unfiltered_Apr25/Breast/timing\"\n",
    "HRDTimerUtils.run_Signature_Analysis(all_muts, genome_build=\"GRCh37\")\n",
    "HRDTimerUtils.run_Signature_Analysis(timing_muts, genome_build=\"GRCh37\")"
   ]
  },
  {
   "cell_type": "code",
   "execution_count": null,
   "metadata": {},
   "outputs": [
    {
     "name": "stdout",
     "output_type": "stream",
     "text": [
      "Processing Early samples:\n"
     ]
    },
    {
     "name": "stderr",
     "output_type": "stream",
     "text": [
      "Processing Files: 100%|██████████| 49/49 [00:08<00:00,  5.71it/s]\n"
     ]
    },
    {
     "name": "stdout",
     "output_type": "stream",
     "text": [
      "Processing Late samples:\n"
     ]
    },
    {
     "name": "stderr",
     "output_type": "stream",
     "text": [
      "Processing Files: 100%|██████████| 49/49 [00:07<00:00,  6.70it/s]\n"
     ]
    },
    {
     "name": "stdout",
     "output_type": "stream",
     "text": [
      "Processing NA samples:\n"
     ]
    },
    {
     "name": "stderr",
     "output_type": "stream",
     "text": [
      "Processing Files: 100%|██████████| 49/49 [00:06<00:00,  7.91it/s]\n"
     ]
    }
   ],
   "source": [
    "vcf_folder_path = \"AA_NEW_TEST_RUN_SCANB_unfiltered_Apr25/Breast/timing\"\n",
    "breast_samples = HRDTimerUtils.prepare_samples_for_timing(vcf_folder_path)"
   ]
  },
  {
   "cell_type": "code",
   "execution_count": 225,
   "metadata": {},
   "outputs": [],
   "source": [
    "WGD_HRD_samples = list(breast_samples.keys())\n",
    "breast_samples_WGD_HRD = {key: breast_samples[key] for key in WGD_HRD_samples if key in breast_samples}"
   ]
  },
  {
   "cell_type": "code",
   "execution_count": null,
   "metadata": {},
   "outputs": [
    {
     "name": "stderr",
     "output_type": "stream",
     "text": [
      "Processing Samples: 100%|██████████| 49/49 [02:05<00:00,  2.57s/it]\n"
     ]
    }
   ],
   "source": [
    "WGDTime_means = {}\n",
    "WGDTime_CpGs = {}\n",
    "WGDTime_error = {}\n",
    "WGDTime_CpGs_error = {}\n",
    "NmutCpG = {}\n",
    "\n",
    "# Iterate over each sample in the dictionary with a progress bar\n",
    "for sample_id, sample_df in tqdm(breast_samples_WGD_HRD.items(), desc=\"Processing Samples\"):\n",
    "    # Calculate bootstrap samples and confidence intervals\n",
    "    N_mut_CpG, _, WDGTime, WGDTime_CI = HRDTimerUtils.calculate_WGDtime_prob_bootstrapping(sample_df)\n",
    "    _, _, WGDTime_CpG, WGDTime_CpG_CI = HRDTimerUtils.calculate_WGDtime_prob_bootstrapping_CTpG(sample_df)\n",
    "    # Store the results for the current sample\n",
    "    WGDTime_means[sample_id] = WDGTime\n",
    "    WGDTime_error[sample_id] = WGDTime_CI\n",
    "    NmutCpG[sample_id] = N_mut_CpG.tolist()\n",
    "\n",
    "    WGDTime_CpGs[sample_id] = WGDTime_CpG\n",
    "    WGDTime_CpGs_error[sample_id] = WGDTime_CpG_CI"
   ]
  },
  {
   "cell_type": "code",
   "execution_count": null,
   "metadata": {},
   "outputs": [
    {
     "name": "stderr",
     "output_type": "stream",
     "text": [
      "Processing Samples: 100%|██████████| 49/49 [39:31<00:00, 48.39s/it]\n"
     ]
    }
   ],
   "source": [
    "HRDTime_means = {}\n",
    "HRDTime_error = {}\n",
    "pi2SBS1_means = {}\n",
    "pi2SBS1_err = {}\n",
    "pi2SBS3_means = {}\n",
    "pi2SBS3_err = {} \n",
    "pi1SBS1_means = {}\n",
    "pi1SBS1_err = {}\n",
    "pi1SBS3_means = {}\n",
    "pi1SBS3_err = {}\n",
    "c = {}\n",
    "c_avg = {}\n",
    "NtSBS1 ={}\n",
    "NtSBS3 ={}\n",
    "Nmutall = {}\n",
    "\n",
    "# Iterate over each sample in the dictionary with a progress bar\n",
    "for sample_id, sample_df in tqdm(breast_samples_WGD_HRD.items(), desc=\"Processing Samples\"):\n",
    "    # Calculate bootstrap samples and confidence intervals\n",
    "    N_mut_all, _, HRD_time, HRD_time_CI, c_val_mean, cavg, Nt_SBS1, Nt_SBS3, pi_2_SBS1_mean, pi_2_SBS1_err, pi_2_SBS3_mean, pi_2_SBS3_err, pi_1_SBS1_mean, pi_1_SBS1_err, pi_1_SBS3_mean, pi_1_SBS3_err = HRDTimerUtils.calculate_HRDtime_prob_bootstrapping(sample_df)\n",
    "    # Store the results for the current sample\n",
    "    HRDTime_means[sample_id] = HRD_time\n",
    "    HRDTime_error[sample_id] = HRD_time_CI\n",
    "    pi2SBS1_means[sample_id] = pi_2_SBS1_mean\n",
    "    pi2SBS1_err[sample_id] = pi_2_SBS1_err\n",
    "    pi2SBS3_means[sample_id] = pi_2_SBS3_mean\n",
    "    pi2SBS3_err[sample_id] = pi_2_SBS3_err\n",
    "    pi1SBS1_means[sample_id] = pi_1_SBS1_mean\n",
    "    pi1SBS1_err[sample_id] = pi_1_SBS1_err\n",
    "    pi1SBS3_means[sample_id] = pi_1_SBS3_mean\n",
    "    pi1SBS3_err[sample_id] = pi_1_SBS3_err\n",
    "    c[sample_id] = c_val_mean \n",
    "    c_avg[sample_id] = cavg\n",
    "    NtSBS1[sample_id] = Nt_SBS1\n",
    "    NtSBS3[sample_id] = Nt_SBS3\n",
    "    Nmutall[sample_id] = N_mut_all.tolist()"
   ]
  },
  {
   "cell_type": "code",
   "execution_count": null,
   "metadata": {},
   "outputs": [],
   "source": [
    "results = []\n",
    "\n",
    "# Loop through each filtered ID, calculate HRD time, and store the results\n",
    "for aliquot_id in breast_samples_WGD_HRD:\n",
    "    if aliquot_id in breast_samples_WGD_HRD:\n",
    "        n_mut_CpG = NmutCpG.get(aliquot_id, \"Not available\")\n",
    "        n_mut_all = Nmutall.get(aliquot_id, \"Not available\")\n",
    "        \n",
    "        hrd_time = HRDTime_means.get(aliquot_id, \"Not available\")\n",
    "        hrd_time_error = HRDTime_error.get(aliquot_id, \"Not available\")\n",
    "\n",
    "        wgd_time = WGDTime_means.get(aliquot_id, \"Not available\")\n",
    "        wgd_time_error = WGDTime_error.get(aliquot_id, \"Not available\")\n",
    "\n",
    "        wgd_time_cpg = WGDTime_CpGs.get(aliquot_id, \"Not available\")\n",
    "        wgd_time_cpg_err = WGDTime_CpGs_error.get(aliquot_id, \"Not available\")\n",
    "\n",
    "        pi2SBS1_mean = pi2SBS1_means.get(aliquot_id, \"Not available\")\n",
    "        pi2SBS1_error = pi2SBS1_err.get(aliquot_id, \"Not available\")\n",
    "\n",
    "        pi2SBS3_mean = pi2SBS3_means.get(aliquot_id, \"Not available\")\n",
    "        pi2SBS3_error = pi2SBS3_err.get(aliquot_id, \"Not available\")\n",
    "\n",
    "        pi1SBS1_mean = pi1SBS1_means.get(aliquot_id, \"Not available\")\n",
    "        pi1SBS1_error = pi1SBS1_err.get(aliquot_id, \"Not available\")\n",
    "\n",
    "        pi1SBS3_mean = pi1SBS3_means.get(aliquot_id, \"Not available\")\n",
    "        pi1SBS3_error = pi1SBS3_err.get(aliquot_id, \"Not available\")\n",
    "\n",
    "        C = c.get(aliquot_id, \"Not available\")\n",
    "        C_avg = c_avg.get(aliquot_id, \"Not available\")\n",
    "\n",
    "        Nt_SBS1 = NtSBS1.get(aliquot_id, \"Not available\")\n",
    "        Nt_SBS3 = NtSBS3.get(aliquot_id, \"Not available\")\n",
    "        \n",
    "        results.append([aliquot_id, hrd_time, hrd_time_error, wgd_time, wgd_time_error, wgd_time_cpg,  wgd_time_cpg_err, pi2SBS1_mean, pi2SBS1_error, pi2SBS3_mean, pi2SBS3_error, pi1SBS1_mean, pi1SBS1_error, pi1SBS3_mean, pi1SBS3_error, C, C_avg, Nt_SBS1, Nt_SBS3, n_mut_CpG, n_mut_all])\n",
    "\n",
    "# Print the results as a table\n",
    "print(tabulate(results, headers=[\"ID\", \"HRDTime\", \"HRDTime_ci\", \"WGDTime\", \"WGDTime_ci\", \"WGDTime_CpG\", \"WGDTime_CpG_err\", 'pi2SBS1' , 'pi2SBS1_ci', 'pi2SBS3' , 'pi2SBS3_ci', 'pi1SBS1' , 'pi1SBS1_ci', 'pi1SBS3' , 'pi1SBS3_ci', \"c\", \"c21\", \"Nt_SBS1\", \"Nt_SBS3\", \"N_mut(C>TpG)\", \"N_mut_all\"], tablefmt=\"grid\"))\n",
    "\n",
    "with open('SCANB_unfiltered_Breast_WGD_HRD_TimingResults_v9_timing_nboot200.csv', mode='w', newline='') as file:\n",
    "    writer = csv.writer(file)\n",
    "    # Write the header\n",
    "    writer.writerow([\"ID\", \"HRDTime\", \"HRDTime_ci\", \"WGDTime\", \"WGDTime_ci\", \"WGDTime_CpG\", \"WGDTime_CpG_err\", 'pi2SBS1' , 'pi2SBS1_ci', 'pi2SBS3' , 'pi2SBS3_ci', 'pi1SBS1' , 'pi1SBS1_ci', 'pi1SBS3' , 'pi1SBS3_ci', \"c\", \"c21\", \"Nt_SBS1\", \"Nt_SBS3\", \"N_mut(C>TpG)\", \"N_mut_all\"])\n",
    "    # Write the data\n",
    "    writer.writerows(results)"
   ]
  },
  {
   "cell_type": "markdown",
   "metadata": {},
   "source": [
    "# INFORM"
   ]
  },
  {
   "cell_type": "markdown",
   "metadata": {},
   "source": [
    "## Preprocess metadata"
   ]
  },
  {
   "cell_type": "code",
   "execution_count": 239,
   "metadata": {},
   "outputs": [],
   "source": [
    "INFORM_metadata_path = 'INFORM2/inform_samples_isWGD.csv'\n",
    "INFORM_metadata = pd.read_csv(INFORM_metadata_path)\n",
    "INFORM_metadata['isHRD'] = True\n",
    "INFORM_metadata['organ'] = 'Breast'\n",
    "INFORM_metadata['WGD'] = INFORM_metadata['isWGD']\n",
    "INFORM_metadata['aliquot_id'] = INFORM_metadata['individual_display_title']\n",
    "output_csv_path = 'INFORM_metadata.csv'  # Replace with your desired output CSV file path\n",
    "INFORM_metadata.to_csv(output_csv_path, index=False)"
   ]
  },
  {
   "cell_type": "code",
   "execution_count": null,
   "metadata": {},
   "outputs": [
    {
     "name": "stderr",
     "output_type": "stream",
     "text": [
      "Processing VCFs: 100%|██████████| 19/19 [00:15<00:00,  1.23it/s]\n",
      "Processing VCFs: 100%|██████████| 19/19 [00:12<00:00,  1.53it/s]\n"
     ]
    }
   ],
   "source": [
    "input_folder_path = \"INFORM_germline_filtered_hrdtimer_vcfs\"\n",
    "output_folder_path = \"AA_NEW_TEST_RUN_INFORM_germline_filtered_v2\"\n",
    "organ_csv_path = \"INFORM_metadata.csv\"\n",
    "\n",
    "# Ensure the output folder exists\n",
    "if not os.path.exists(output_folder_path):\n",
    "    os.makedirs(output_folder_path)\n",
    "\n",
    "HRDTimerUtils.process_vcfs_early_late(input_folder_path, output_folder_path, organ_csv_path, time_analysis=False)\n",
    "HRDTimerUtils.process_vcfs_early_late(input_folder_path, output_folder_path, organ_csv_path, time_analysis=True)"
   ]
  },
  {
   "cell_type": "code",
   "execution_count": null,
   "metadata": {},
   "outputs": [],
   "source": [
    "all_muts = \"AA_NEW_TEST_RUN_INFORM_germline_filtered_v2/Breast/all_mut\"\n",
    "timing_muts = \"AA_NEW_TEST_RUN_INFORM_germline_filtered_v2/Breast/timing\"\n",
    "HRDTimerUtils.run_Signature_Analysis(all_muts, genome_build=\"GRCh38\")\n",
    "HRDTimerUtils.run_Signature_Analysis(timing_muts, genome_build=\"GRCh38\")"
   ]
  },
  {
   "cell_type": "code",
   "execution_count": null,
   "metadata": {},
   "outputs": [
    {
     "name": "stdout",
     "output_type": "stream",
     "text": [
      "Processing Early samples:\n"
     ]
    },
    {
     "name": "stderr",
     "output_type": "stream",
     "text": [
      "Processing Files: 100%|██████████| 19/19 [00:01<00:00, 11.13it/s]\n"
     ]
    },
    {
     "name": "stdout",
     "output_type": "stream",
     "text": [
      "Processing Late samples:\n"
     ]
    },
    {
     "name": "stderr",
     "output_type": "stream",
     "text": [
      "Processing Files: 100%|██████████| 19/19 [00:02<00:00,  8.34it/s]\n"
     ]
    },
    {
     "name": "stdout",
     "output_type": "stream",
     "text": [
      "Processing NA samples:\n"
     ]
    },
    {
     "name": "stderr",
     "output_type": "stream",
     "text": [
      "Processing Files: 100%|██████████| 19/19 [00:02<00:00,  8.48it/s]\n"
     ]
    }
   ],
   "source": [
    "vcf_folder_path = \"/Volumes/extSSD/park_lab/HRDTimer_Analysis/AA_NEW_TEST_RUN_INFORM_germline_filtered_v2/Breast/timing\"\n",
    "breast_samples = HRDTimerUtils.prepare_samples_for_timing(vcf_folder_path)"
   ]
  },
  {
   "cell_type": "code",
   "execution_count": 245,
   "metadata": {},
   "outputs": [],
   "source": [
    "WGD_HRD_samples = ['Patient101','Patient17','Patient18','Patient25','Patient26','Patient33','Patient34','Patient82']\n",
    "breast_samples_WGD_HRD = {key: breast_samples[key] for key in WGD_HRD_samples if key in breast_samples}"
   ]
  },
  {
   "cell_type": "code",
   "execution_count": null,
   "metadata": {},
   "outputs": [
    {
     "name": "stderr",
     "output_type": "stream",
     "text": [
      "Processing Samples: 100%|██████████| 8/8 [00:20<00:00,  2.62s/it]\n"
     ]
    }
   ],
   "source": [
    "WGDTime_means = {}\n",
    "WGDTime_CpGs = {}\n",
    "WGDTime_error = {}\n",
    "WGDTime_CpGs_error = {}\n",
    "NmutCpG = {}\n",
    "\n",
    "# Iterate over each sample in the dictionary with a progress bar\n",
    "for sample_id, sample_df in tqdm(breast_samples_WGD_HRD.items(), desc=\"Processing Samples\"):\n",
    "    # Calculate bootstrap samples and confidence intervals\n",
    "    N_mut_CpG, _, WDGTime, WGDTime_CI = HRDTimerUtils.calculate_WGDtime_prob_bootstrapping(sample_df)\n",
    "    _, _, WGDTime_CpG, WGDTime_CpG_CI = HRDTimerUtils.calculate_WGDtime_prob_bootstrapping_CTpG(sample_df)\n",
    "    # Store the results for the current sample\n",
    "    WGDTime_means[sample_id] = WDGTime\n",
    "    WGDTime_error[sample_id] = WGDTime_CI\n",
    "    NmutCpG[sample_id] = N_mut_CpG.tolist()\n",
    "\n",
    "    WGDTime_CpGs[sample_id] = WGDTime_CpG\n",
    "    WGDTime_CpGs_error[sample_id] = WGDTime_CpG_CI\n"
   ]
  },
  {
   "cell_type": "code",
   "execution_count": null,
   "metadata": {},
   "outputs": [
    {
     "name": "stderr",
     "output_type": "stream",
     "text": [
      "Processing Samples: 100%|██████████| 8/8 [07:10<00:00, 53.77s/it]\n"
     ]
    }
   ],
   "source": [
    "HRDTime_means = {}\n",
    "HRDTime_error = {}\n",
    "pi2SBS1_means = {}\n",
    "pi2SBS1_err = {}\n",
    "pi2SBS3_means = {}\n",
    "pi2SBS3_err = {} \n",
    "pi1SBS1_means = {}\n",
    "pi1SBS1_err = {}\n",
    "pi1SBS3_means = {}\n",
    "pi1SBS3_err = {}\n",
    "c = {}\n",
    "c_avg = {}\n",
    "NtSBS1 ={}\n",
    "NtSBS3 ={}\n",
    "Nmutall = {}\n",
    "\n",
    "# Iterate over each sample in the dictionary with a progress bar\n",
    "for sample_id, sample_df in tqdm(breast_samples_WGD_HRD.items(), desc=\"Processing Samples\"):\n",
    "    # Calculate bootstrap samples and confidence intervals\n",
    "    N_mut_all, _, HRD_time, HRD_time_CI, c_val_mean, cavg, Nt_SBS1, Nt_SBS3, pi_2_SBS1_mean, pi_2_SBS1_err, pi_2_SBS3_mean, pi_2_SBS3_err, pi_1_SBS1_mean, pi_1_SBS1_err, pi_1_SBS3_mean, pi_1_SBS3_err = HRDTimerUtils.calculate_HRDtime_prob_bootstrapping(sample_df)\n",
    "    # Store the results for the current sample\n",
    "    HRDTime_means[sample_id] = HRD_time\n",
    "    HRDTime_error[sample_id] = HRD_time_CI\n",
    "    pi2SBS1_means[sample_id] = pi_2_SBS1_mean\n",
    "    pi2SBS1_err[sample_id] = pi_2_SBS1_err\n",
    "    pi2SBS3_means[sample_id] = pi_2_SBS3_mean\n",
    "    pi2SBS3_err[sample_id] = pi_2_SBS3_err\n",
    "    pi1SBS1_means[sample_id] = pi_1_SBS1_mean\n",
    "    pi1SBS1_err[sample_id] = pi_1_SBS1_err\n",
    "    pi1SBS3_means[sample_id] = pi_1_SBS3_mean\n",
    "    pi1SBS3_err[sample_id] = pi_1_SBS3_err\n",
    "    c[sample_id] = c_val_mean \n",
    "    c_avg[sample_id] = cavg\n",
    "    NtSBS1[sample_id] = Nt_SBS1\n",
    "    NtSBS3[sample_id] = Nt_SBS3\n",
    "    Nmutall[sample_id] = N_mut_all.tolist()"
   ]
  },
  {
   "cell_type": "code",
   "execution_count": null,
   "metadata": {},
   "outputs": [],
   "source": [
    "results = []\n",
    "\n",
    "# Loop through each filtered ID, calculate HRD time, and store the results\n",
    "for aliquot_id in breast_samples_WGD_HRD:\n",
    "    if aliquot_id in breast_samples:\n",
    "        n_mut_CpG = NmutCpG.get(aliquot_id, \"Not available\")\n",
    "        n_mut_all = Nmutall.get(aliquot_id, \"Not available\")\n",
    "        \n",
    "        hrd_time = HRDTime_means.get(aliquot_id, \"Not available\")\n",
    "        hrd_time_error = HRDTime_error.get(aliquot_id, \"Not available\")\n",
    "\n",
    "        wgd_time = WGDTime_means.get(aliquot_id, \"Not available\")\n",
    "        wgd_time_error = WGDTime_error.get(aliquot_id, \"Not available\")\n",
    "        \n",
    "        wgd_time_cpg = WGDTime_CpGs.get(aliquot_id, \"Not available\")\n",
    "        wgd_time_cpg_err = WGDTime_CpGs_error.get(aliquot_id, \"Not available\")\n",
    "\n",
    "        pi2SBS1_mean = pi2SBS1_means.get(aliquot_id, \"Not available\")\n",
    "        pi2SBS1_error = pi2SBS1_err.get(aliquot_id, \"Not available\")\n",
    "\n",
    "        pi2SBS3_mean = pi2SBS3_means.get(aliquot_id, \"Not available\")\n",
    "        pi2SBS3_error = pi2SBS3_err.get(aliquot_id, \"Not available\")\n",
    "\n",
    "        pi1SBS1_mean = pi1SBS1_means.get(aliquot_id, \"Not available\")\n",
    "        pi1SBS1_error = pi1SBS1_err.get(aliquot_id, \"Not available\")\n",
    "\n",
    "        pi1SBS3_mean = pi1SBS3_means.get(aliquot_id, \"Not available\")\n",
    "        pi1SBS3_error = pi1SBS3_err.get(aliquot_id, \"Not available\")\n",
    "\n",
    "        C = c.get(aliquot_id, \"Not available\")\n",
    "        C_avg = c_avg.get(aliquot_id, \"Not available\")\n",
    "\n",
    "        Nt_SBS1 = NtSBS1.get(aliquot_id, \"Not available\")\n",
    "        Nt_SBS3 = NtSBS3.get(aliquot_id, \"Not available\")\n",
    "        \n",
    "        results.append([aliquot_id, hrd_time, hrd_time_error, wgd_time, wgd_time_error, wgd_time_cpg, wgd_time_cpg_err, pi2SBS1_mean, pi2SBS1_error, pi2SBS3_mean, pi2SBS3_error, pi1SBS1_mean, pi1SBS1_error, pi1SBS3_mean, pi1SBS3_error, C, C_avg, Nt_SBS1, Nt_SBS3, n_mut_CpG, n_mut_all])\n",
    "\n",
    "# Print the results as a table\n",
    "print(tabulate(results, headers=[\"ID\", \"HRDTime\", \"HRDTime_ci\", \"WGDTime\", \"WGDTime_ci\", \"WGDTime_CpG\", \"WGDTime_CpG_err\", 'pi2SBS1' , 'pi2SBS1_ci', 'pi2SBS3' , 'pi2SBS3_ci', 'pi1SBS1' , 'pi1SBS1_ci', 'pi1SBS3' , 'pi1SBS3_ci', \"c\", \"c21\", \"Nt_SBS1\", \"Nt_SBS3\", \"N_mut(C>TpG)\", \"N_mut_all\"], tablefmt=\"grid\"))\n",
    "\n",
    "with open('INFORM_germline_filtered_Breast_WGD_HRD_TimingResults_v9_timing_nboot200.csv', mode='w', newline='') as file:\n",
    "    writer = csv.writer(file)\n",
    "    # Write the header\n",
    "    writer.writerow([\"ID\", \"HRDTime\", \"HRDTime_ci\", \"WGDTime\", \"WGDTime_ci\", \"WGDTime_CpG\", \"WGDTime_CpG_err\", 'pi2SBS1' , 'pi2SBS1_ci', 'pi2SBS3' , 'pi2SBS3_ci', 'pi1SBS1' , 'pi1SBS1_ci', 'pi1SBS3' , 'pi1SBS3_ci', \"c\", \"c21\", \"Nt_SBS1\", \"Nt_SBS3\", \"N_mut(C>TpG)\", \"N_mut_all\"])\n",
    "    # Write the data\n",
    "    writer.writerows(results)"
   ]
  }
 ],
 "metadata": {
  "kernelspec": {
   "display_name": "python-3.11",
   "language": "python",
   "name": "python3"
  },
  "language_info": {
   "codemirror_mode": {
    "name": "ipython",
    "version": 3
   },
   "file_extension": ".py",
   "mimetype": "text/x-python",
   "name": "python",
   "nbconvert_exporter": "python",
   "pygments_lexer": "ipython3",
   "version": "3.11.8"
  }
 },
 "nbformat": 4,
 "nbformat_minor": 2
}
