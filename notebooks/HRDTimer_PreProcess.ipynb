{
 "cells": [
  {
   "cell_type": "code",
   "execution_count": 1,
   "id": "782e1a28",
   "metadata": {},
   "outputs": [],
   "source": [
    "# ===============================\n",
    "# Standard Library\n",
    "# ===============================\n",
    "import os\n",
    "import sys\n",
    "import re\n",
    "import ast\n",
    "import csv\n",
    "import shutil\n",
    "import logging\n",
    "from contextlib import redirect_stdout\n",
    "\n",
    "# ===============================\n",
    "# Third-Party Libraries\n",
    "# ===============================\n",
    "import numpy as np\n",
    "import pandas as pd\n",
    "import matplotlib.pyplot as plt\n",
    "import seaborn as sns\n",
    "import matplotlib as mpl\n",
    "from tqdm import tqdm\n",
    "from tabulate import tabulate\n",
    "from scipy import stats, odr\n",
    "from scipy.stats import linregress\n",
    "from contextlib import contextmanager\n",
    "import vcfpy  # via pip only\n",
    "\n",
    "# ===============================\n",
    "# Domain-Specific / External Libraries\n",
    "# ===============================\n",
    "from SigProfilerAssignment import Analyzer as Analyze  # via pip\n",
    "import musical  # Not installable via pip/conda – likely local or private\n",
    "\n",
    "\n",
    "pd.set_option(\"display.max_columns\", None)\n",
    "\n",
    "original_sys_path = sys.path.copy()\n",
    "sys.path.append(os.path.abspath(\"..\"))\n",
    "from hrdtimer import utils as HRDTimerUtils\n",
    "sys.path = original_sys_path\n",
    "\n",
    "%matplotlib inline"
   ]
  },
  {
   "cell_type": "markdown",
   "id": "c0f65ff6",
   "metadata": {},
   "source": [
    "## Helpers"
   ]
  },
  {
   "cell_type": "code",
   "execution_count": 3,
   "id": "c7145214",
   "metadata": {},
   "outputs": [],
   "source": [
    "class DummyFile(object):\n",
    "    def write(self, x): pass\n",
    "    def flush(self): pass\n",
    "\n",
    "def suppress_prints():\n",
    "    sys.stdout = DummyFile()\n",
    "    sys.stderr = DummyFile()\n",
    "\n",
    "def restore_prints():\n",
    "    sys.stdout = sys.__stdout__\n",
    "    sys.stderr = sys.__stderr__"
   ]
  },
  {
   "cell_type": "code",
   "execution_count": 3,
   "id": "b8badf90",
   "metadata": {},
   "outputs": [],
   "source": [
    "INPUT_PCAWG = \"../raw_input_data/PCAWG_MutationTimeR_output\"\n",
    "OUTPUT_PCAWG = \"../HRDTimer_PreProcess/PCAWG\"\n",
    "METADATA_PCAWG = \"../data/metadata/pan_metadata_v5.csv\""
   ]
  },
  {
   "cell_type": "code",
   "execution_count": 4,
   "id": "66181c14",
   "metadata": {},
   "outputs": [
    {
     "name": "stderr",
     "output_type": "stream",
     "text": [
      "Processing VCFs: 100%|██████████| 317/317 [01:48<00:00,  2.91it/s]\n",
      "Processing VCFs: 100%|██████████| 317/317 [01:26<00:00,  3.65it/s]\n"
     ]
    }
   ],
   "source": [
    "if not os.path.exists(OUTPUT_PCAWG):\n",
    "    os.makedirs(OUTPUT_PCAWG)\n",
    "\n",
    "# Processing all mutations\n",
    "HRDTimerUtils.process_vcfs_early_late(INPUT_PCAWG, OUTPUT_PCAWG, METADATA_PCAWG, time_analysis=False)\n",
    "# Processing timing mutations\n",
    "HRDTimerUtils.process_vcfs_early_late(INPUT_PCAWG, OUTPUT_PCAWG, METADATA_PCAWG, time_analysis=True)"
   ]
  },
  {
   "cell_type": "code",
   "execution_count": 2,
   "id": "9590c78f",
   "metadata": {},
   "outputs": [],
   "source": [
    "INPUT_SCANB = \"../raw_input_data/SCANB_unfiltered_MutationTimeR_output\"\n",
    "OUTPUT_SCANB = \"../HRDTimer_PreProcess/SCANB\"\n",
    "METADATA_SCANB = \"../data/metadata/pan_metadata_v5.csv\""
   ]
  },
  {
   "cell_type": "code",
   "execution_count": 3,
   "id": "111fcf3d",
   "metadata": {},
   "outputs": [
    {
     "name": "stderr",
     "output_type": "stream",
     "text": [
      "Processing VCFs: 100%|██████████| 240/240 [00:18<00:00, 12.67it/s]\n",
      "Processing VCFs: 100%|██████████| 240/240 [00:14<00:00, 16.41it/s]\n"
     ]
    }
   ],
   "source": [
    "if not os.path.exists(OUTPUT_SCANB):\n",
    "    os.makedirs(OUTPUT_SCANB)\n",
    "\n",
    "# Processing all mutations\n",
    "HRDTimerUtils.process_vcfs_early_late(INPUT_SCANB, OUTPUT_SCANB, METADATA_SCANB, time_analysis=False)\n",
    "# Processing timing mutations\n",
    "HRDTimerUtils.process_vcfs_early_late(INPUT_SCANB, OUTPUT_SCANB, METADATA_SCANB, time_analysis=True)"
   ]
  },
  {
   "cell_type": "code",
   "execution_count": 4,
   "id": "0842bf47",
   "metadata": {},
   "outputs": [],
   "source": [
    "INPUT_INFORM = \"../raw_input_data/INFORM_0.001popAF_germline_filtered_MutationTimeR_output\"\n",
    "OUTPUT_INFORM = \"../HRDTimer_PreProcess/INFORM\"\n",
    "METADATA_INFORM = \"../data/metadata/pan_metadata_v5.csv\""
   ]
  },
  {
   "cell_type": "code",
   "execution_count": 5,
   "id": "6efcbde3",
   "metadata": {},
   "outputs": [
    {
     "name": "stderr",
     "output_type": "stream",
     "text": [
      "Processing VCFs: 100%|██████████| 19/19 [00:12<00:00,  1.56it/s]\n",
      "Processing VCFs: 100%|██████████| 19/19 [00:10<00:00,  1.77it/s]\n"
     ]
    }
   ],
   "source": [
    "if not os.path.exists(OUTPUT_INFORM):\n",
    "    os.makedirs(OUTPUT_INFORM)\n",
    "\n",
    "# Processing all mutations\n",
    "HRDTimerUtils.process_vcfs_early_late(INPUT_INFORM, OUTPUT_INFORM, METADATA_INFORM, time_analysis=False)\n",
    "# Processing timing mutations\n",
    "HRDTimerUtils.process_vcfs_early_late(INPUT_INFORM, OUTPUT_INFORM, METADATA_INFORM, time_analysis=True)"
   ]
  },
  {
   "cell_type": "code",
   "execution_count": 4,
   "id": "487d66a7",
   "metadata": {},
   "outputs": [
    {
     "name": "stdout",
     "output_type": "stream",
     "text": [
      "Processing ../HRDTimer_PreProcess/INFORM/Breast/all_mut with genome build GRCh38 ...\n",
      "|████████████████████████████████████████| 19/19 [100%] in 6.9s (2.76/s) \n",
      "|████████████████████████████████████████| 19/19 [100%] in 6.5s (2.94/s) \n",
      "|████████████████████████████████████████| 19/19 [100%] in 9.2s (2.07/s) \n",
      "Processing ../HRDTimer_PreProcess/INFORM/Breast/timing with genome build GRCh38 ...\n",
      "|████████████████████████████████████████| 19/19 [100%] in 6.2s (3.07/s) \n",
      "|████████████████████████████████████████| 19/19 [100%] in 5.6s (3.37/s) \n",
      "|████████████████████████████████████████| 19/19 [100%] in 6.9s (2.74/s) \n",
      "Processing ../HRDTimer_PreProcess/PCAWG/Breast/all_mut with genome build GRCh37 ...\n",
      "|████████████████████████████████████████| 207/207 [100%] in 1:13.0 (2.84/s) \n",
      "|████████████████████████████████████████| 184/184 [100%] in 1:06.1 (2.78/s) \n",
      "|████████████████████████████████████████| 208/208 [100%] in 1:32.4 (2.25/s) \n",
      "Processing ../HRDTimer_PreProcess/PCAWG/Breast/timing with genome build GRCh37 ...\n",
      "|████████████████████████████████████████| 202/202 [100%] in 1:04.6 (3.13/s) \n",
      "|████████████████████████████████████████| 174/174 [100%] in 57.6s (3.02/s) \n",
      "|████████████████████████████████████████| 205/205 [100%] in 1:08.7 (2.98/s) \n",
      "Processing ../HRDTimer_PreProcess/PCAWG/Ovary/all_mut with genome build GRCh37 ...\n",
      "|████████████████████████████████████████| 109/109 [100%] in 39.7s (2.75/s) \n",
      "|████████████████████████████████████████| 107/107 [100%] in 37.4s (2.86/s) \n",
      "|████████████████████████████████████████| 109/109 [100%] in 51.6s (2.11/s) \n",
      "Processing ../HRDTimer_PreProcess/PCAWG/Ovary/timing with genome build GRCh37 ...\n",
      "|████████████████████████████████████████| 109/109 [100%] in 32.3s (3.38/s) \n",
      "|████████████████████████████████████████| 107/107 [100%] in 36.0s (2.97/s) \n",
      "|████████████████████████████████████████| 109/109 [100%] in 39.5s (2.76/s) \n",
      "Processing ../HRDTimer_PreProcess/SCANB/Breast/all_mut with genome build GRCh37 ...\n",
      "|████████████████████████████████████████| 49/49 [100%] in 23.5s (2.08/s) \n",
      "|████████████████████████████████████████| 49/49 [100%] in 21.1s (2.32/s) \n",
      "|████████████████████████████████████████| 49/49 [100%] in 21.4s (2.29/s) \n",
      "Processing ../HRDTimer_PreProcess/SCANB/Breast/timing with genome build GRCh37 ...\n",
      "|████████████████████████████████████████| 49/49 [100%] in 21.8s (2.24/s) \n",
      "|████████████████████████████████████████| 49/49 [100%] in 17.5s (2.81/s) \n",
      "|████████████████████████████████████████| 49/49 [100%] in 19.7s (2.48/s) \n"
     ]
    }
   ],
   "source": [
    "base_dir = \"../HRDTimer_PreProcess\"\n",
    "\n",
    "def find_all_mut_and_timing_dirs(base_dir):\n",
    "    target_dirs = []\n",
    "    for root, dirs, files in os.walk(base_dir):\n",
    "        for d in dirs:\n",
    "            if d in ['all_mut', 'timing']:\n",
    "                target_dirs.append(os.path.join(root, d))\n",
    "    return target_dirs\n",
    "\n",
    "dirs_to_process = find_all_mut_and_timing_dirs(base_dir)\n",
    "\n",
    "for d in dirs_to_process:\n",
    "    genome_build = \"GRCh38\" if \"INFORM\" in d else \"GRCh37\"\n",
    "    print(f\"Processing {d} with genome build {genome_build} ...\")\n",
    "    suppress_prints()\n",
    "    HRDTimerUtils.run_Signature_Analysis(d, genome_build=genome_build)\n",
    "    restore_prints()\n"
   ]
  }
 ],
 "metadata": {
  "kernelspec": {
   "display_name": "python-3.11",
   "language": "python",
   "name": "python3"
  },
  "language_info": {
   "codemirror_mode": {
    "name": "ipython",
    "version": 3
   },
   "file_extension": ".py",
   "mimetype": "text/x-python",
   "name": "python",
   "nbconvert_exporter": "python",
   "pygments_lexer": "ipython3",
   "version": "3.11.8"
  }
 },
 "nbformat": 4,
 "nbformat_minor": 5
}
