{
 "cells": [
  {
   "cell_type": "code",
   "execution_count": 8,
   "metadata": {},
   "outputs": [],
   "source": [
    "import pandas as pd\n",
    "import numpy as np"
   ]
  },
  {
   "cell_type": "code",
   "execution_count": 7,
   "metadata": {},
   "outputs": [],
   "source": [
    "PCAWG_timing = pd.read_csv(\"/Users/michail/HMS Dropbox/Michail Andreopoulos/HRDTimer/data/output/PCAWG_Breast_WGD_HRD_TimingResults_timing_nboot200_0001.csv\")\n",
    "SCANB_timing = pd.read_csv(\"/Users/michail/HMS Dropbox/Michail Andreopoulos/HRDTimer/data/output/SCANB_unfiltered_Breast_WGD_HRD_TimingResults_v9_timing_nboot200.csv\")\n",
    "INFORM_timing = pd.read_csv(\"/Users/michail/HMS Dropbox/Michail Andreopoulos/HRDTimer/data/output/INFORM_germline_filtered_Breast_WGD_HRD_TimingResults_v9_timing_nboot200.csv\")\n",
    "\n",
    "PCAWG_timing[\"cohort\"] = \"PCAWG\"\n",
    "SCANB_timing[\"cohort\"] = \"SCANB\"\n",
    "INFORM_timing[\"cohort\"] = \"INFORM\"\n",
    "# Combine Breast cohorts\n",
    "Breast_cohorts = pd.concat([PCAWG_timing, SCANB_timing, INFORM_timing])\n",
    "# Ovary cohort\n",
    "PCAWG_ovary = pd.read_csv(\"/Users/michail/HMS Dropbox/Michail Andreopoulos/HRDTimer/data/output/PCAWG_Ovary_WGD_HRD_TimingResults_v9_timing_nboot200.csv\")\n"
   ]
  },
  {
   "cell_type": "code",
   "execution_count": 15,
   "metadata": {},
   "outputs": [
    {
     "name": "stdout",
     "output_type": "stream",
     "text": [
      "Breast_cohorts HRDTime median: 0.38\n",
      "Breast_cohorts HRDTime IQR: (0.2, 0.46)\n"
     ]
    }
   ],
   "source": [
    "q1_breast = np.percentile(Breast_cohorts[\"HRDTime\"], 25)\n",
    "q3_breast = np.percentile(Breast_cohorts[\"HRDTime\"], 75)\n",
    "hrdtime_mean_breast = Breast_cohorts[\"HRDTime\"].median()\n",
    "\n",
    "mean_rounded = float(f\"{hrdtime_mean_breast:.2g}\")\n",
    "q1_rounded = float(f\"{q1_breast:.2g}\")\n",
    "q3_rounded = float(f\"{q3_breast:.2g}\")\n",
    "\n",
    "print(\"Breast_cohorts HRDTime median:\", mean_rounded)\n",
    "print(\"Breast_cohorts HRDTime IQR:\", (q1_rounded, q3_rounded))"
   ]
  },
  {
   "cell_type": "code",
   "execution_count": 16,
   "metadata": {},
   "outputs": [
    {
     "name": "stdout",
     "output_type": "stream",
     "text": [
      "Ovary_cohorts HRDTime mean: 0.3\n",
      "Ovary_cohorts HRDTime IQR: (0.22, 0.45)\n"
     ]
    }
   ],
   "source": [
    "q1_ovary = np.percentile(PCAWG_ovary[\"HRDTime\"], 25)\n",
    "q3_ovary = np.percentile(PCAWG_ovary[\"HRDTime\"], 75)\n",
    "hrdtime_mean_ovary = PCAWG_ovary[\"HRDTime\"].median()\n",
    "\n",
    "mean_rounded = float(f\"{hrdtime_mean_ovary:.2g}\")\n",
    "q1_rounded = float(f\"{q1_ovary:.2g}\")\n",
    "q3_rounded = float(f\"{q3_ovary:.2g}\")\n",
    "\n",
    "print(\"Ovary_cohorts HRDTime mean:\", mean_rounded)\n",
    "print(\"Ovary_cohorts HRDTime IQR:\", (q1_rounded, q3_rounded))"
   ]
  },
  {
   "cell_type": "code",
   "execution_count": 17,
   "metadata": {},
   "outputs": [
    {
     "data": {
      "text/plain": [
       "0.3792764722720544"
      ]
     },
     "execution_count": 17,
     "metadata": {},
     "output_type": "execute_result"
    }
   ],
   "source": [
    "PCAWG_timing['HRDTime'].median()"
   ]
  },
  {
   "cell_type": "code",
   "execution_count": 18,
   "metadata": {},
   "outputs": [
    {
     "data": {
      "text/plain": [
       "0.3817405330286986"
      ]
     },
     "execution_count": 18,
     "metadata": {},
     "output_type": "execute_result"
    }
   ],
   "source": [
    "SCANB_timing['HRDTime'].median()"
   ]
  },
  {
   "cell_type": "code",
   "execution_count": 19,
   "metadata": {},
   "outputs": [
    {
     "data": {
      "text/plain": [
       "0.1321254488668825"
      ]
     },
     "execution_count": 19,
     "metadata": {},
     "output_type": "execute_result"
    }
   ],
   "source": [
    "INFORM_timing['HRDTime'].median()"
   ]
  }
 ],
 "metadata": {
  "kernelspec": {
   "display_name": "python-3.11",
   "language": "python",
   "name": "python3"
  },
  "language_info": {
   "codemirror_mode": {
    "name": "ipython",
    "version": 3
   },
   "file_extension": ".py",
   "mimetype": "text/x-python",
   "name": "python",
   "nbconvert_exporter": "python",
   "pygments_lexer": "ipython3",
   "version": "3.11.8"
  }
 },
 "nbformat": 4,
 "nbformat_minor": 2
}
